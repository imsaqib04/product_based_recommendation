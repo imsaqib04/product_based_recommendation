{
 "cells": [
  {
   "cell_type": "code",
   "execution_count": 1,
   "id": "c139a801",
   "metadata": {},
   "outputs": [],
   "source": [
    "# Content-Based Filtering Recommendation System\n",
    "\n",
    "import pandas as pd\n",
    "from sklearn.feature_extraction.text import TfidfVectorizer\n",
    "from sklearn.metrics.pairwise import cosine_similarity"
   ]
  },
  {
   "cell_type": "code",
   "execution_count": 2,
   "id": "5b0eefde",
   "metadata": {},
   "outputs": [],
   "source": [
    "# Step 1: Load product data\n",
    "products = pd.read_csv(\"products.csv\")  # Must have productId, productName, description"
   ]
  },
  {
   "cell_type": "code",
   "execution_count": 4,
   "id": "b97692ab",
   "metadata": {},
   "outputs": [],
   "source": [
    "# # Step 2: TF-IDF Vectorizer on 'description'\n",
    "# tfidf = TfidfVectorizer(stop_words='english')\n",
    "# tfidf_matrix = tfidf.fit_transform(products['description'])\n",
    "\n",
    "# Step 2: TF-IDF Vectorizer on 'description'\n",
    "products['description'] = products['description'].fillna(\"\")  # 👈 NaN ko empty string se replace karo\n",
    "tfidf = TfidfVectorizer(stop_words='english')\n",
    "tfidf_matrix = tfidf.fit_transform(products['description'])\n",
    "\n"
   ]
  },
  {
   "cell_type": "code",
   "execution_count": 5,
   "id": "c6b71ed4",
   "metadata": {},
   "outputs": [],
   "source": [
    "# Step 3: Compute cosine similarity\n",
    "cosine_sim = cosine_similarity(tfidf_matrix, tfidf_matrix)"
   ]
  },
  {
   "cell_type": "code",
   "execution_count": 7,
   "id": "5bf41508",
   "metadata": {},
   "outputs": [
    {
     "name": "stdout",
     "output_type": "stream",
     "text": [
      "Index(['uniq_id', 'crawl_timestamp', 'product_url', 'product_name',\n",
      "       'product_category_tree', 'pid', 'retail_price', 'discounted_price',\n",
      "       'image', 'is_FK_Advantage_product', 'description', 'product_rating',\n",
      "       'overall_rating', 'brand', 'product_specifications'],\n",
      "      dtype='object')\n"
     ]
    }
   ],
   "source": [
    "print(products.columns)\n"
   ]
  },
  {
   "cell_type": "code",
   "execution_count": 8,
   "id": "c1869a6f",
   "metadata": {},
   "outputs": [],
   "source": [
    "# # Step 4: Map productId to index\n",
    "# indices = pd.Series(products.index, index=products['productId'])\n",
    "\n",
    "# Step 4: Map pid to index\n",
    "indices = pd.Series(products.index, index=products['pid'])\n",
    "\n",
    "# Example function update\n",
    "def get_content_recommendations(product_id, top_n=5):\n",
    "    idx = indices[product_id]\n",
    "    sim_scores = list(enumerate(cosine_sim[idx]))\n",
    "    sim_scores = sorted(sim_scores, key=lambda x: x[1], reverse=True)[1:top_n+1]\n",
    "    product_indices = [i[0] for i in sim_scores]\n",
    "    return products[['pid', 'product_name']].iloc[product_indices]\n"
   ]
  },
  {
   "cell_type": "code",
   "execution_count": 15,
   "id": "0cf7619b",
   "metadata": {},
   "outputs": [],
   "source": [
    "# # Step 5: Recommend similar products based on productId\n",
    "# def get_content_recommendations(product_id, top_n=5):\n",
    "#     idx = indices[product_id]\n",
    "#     sim_scores = list(enumerate(cosine_sim[idx]))\n",
    "#     sim_scores = sorted(sim_scores, key=lambda x: x[1], reverse=True)[1:top_n+1]\n",
    "#     product_indices = [i[0] for i in sim_scores]\n",
    "#     return products[['pid', 'product_Name']].iloc[product_indices]\n",
    "\n",
    "def get_content_recommendations(product_id, top_n=5):\n",
    "    idx = indices[product_id]\n",
    "    sim_scores = list(enumerate(cosine_sim[idx]))\n",
    "    sim_scores = sorted(sim_scores, key=lambda x: x[1], reverse=True)[1:top_n+1]\n",
    "    product_indices = [i[0] for i in sim_scores]\n",
    "    return products[['pid', 'product_name']].iloc[product_indices]\n"
   ]
  },
  {
   "cell_type": "code",
   "execution_count": 19,
   "id": "1b0fccf0",
   "metadata": {},
   "outputs": [
    {
     "name": "stderr",
     "output_type": "stream",
     "text": [
      "C:\\Users\\saqib\\AppData\\Local\\Temp\\ipykernel_7776\\230178937.py:6: FutureWarning: Series.__getitem__ treating keys as positions is deprecated. In a future version, integer keys will always be treated as labels (consistent with DataFrame behavior). To access a value by position, use `ser.iloc[pos]`\n",
      "  idx = indices[product_id]\n"
     ]
    },
    {
     "data": {
      "text/html": [
       "<div>\n",
       "<style scoped>\n",
       "    .dataframe tbody tr th:only-of-type {\n",
       "        vertical-align: middle;\n",
       "    }\n",
       "\n",
       "    .dataframe tbody tr th {\n",
       "        vertical-align: top;\n",
       "    }\n",
       "\n",
       "    .dataframe thead th {\n",
       "        text-align: right;\n",
       "    }\n",
       "</style>\n",
       "<table border=\"1\" class=\"dataframe\">\n",
       "  <thead>\n",
       "    <tr style=\"text-align: right;\">\n",
       "      <th></th>\n",
       "      <th>pid</th>\n",
       "      <th>product_name</th>\n",
       "    </tr>\n",
       "  </thead>\n",
       "  <tbody>\n",
       "    <tr>\n",
       "      <th>240</th>\n",
       "      <td>SHOEA4HAJ8FZ5HCX</td>\n",
       "      <td>Catwalk Boots</td>\n",
       "    </tr>\n",
       "    <tr>\n",
       "      <th>11717</th>\n",
       "      <td>SHOE28TKBXVEFWZM</td>\n",
       "      <td>Catwalk Bellies</td>\n",
       "    </tr>\n",
       "    <tr>\n",
       "      <th>11622</th>\n",
       "      <td>SNDE28TSTBZUGG8M</td>\n",
       "      <td>Catwalk Women Heels</td>\n",
       "    </tr>\n",
       "    <tr>\n",
       "      <th>16179</th>\n",
       "      <td>SNDE8TQC4UGDTQMP</td>\n",
       "      <td>Catwalk Women Wedges</td>\n",
       "    </tr>\n",
       "    <tr>\n",
       "      <th>15133</th>\n",
       "      <td>SNDDZK5FHH85BUZN</td>\n",
       "      <td>Catwalk Women Wedges</td>\n",
       "    </tr>\n",
       "  </tbody>\n",
       "</table>\n",
       "</div>"
      ],
      "text/plain": [
       "                    pid          product_name\n",
       "240    SHOEA4HAJ8FZ5HCX         Catwalk Boots\n",
       "11717  SHOE28TKBXVEFWZM       Catwalk Bellies\n",
       "11622  SNDE28TSTBZUGG8M   Catwalk Women Heels\n",
       "16179  SNDE8TQC4UGDTQMP  Catwalk Women Wedges\n",
       "15133  SNDDZK5FHH85BUZN  Catwalk Women Wedges"
      ]
     },
     "execution_count": 19,
     "metadata": {},
     "output_type": "execute_result"
    }
   ],
   "source": [
    "# Example: Recommend 5 products similar to productId = 101\n",
    "get_content_recommendations(101, top_n=5)"
   ]
  },
  {
   "cell_type": "code",
   "execution_count": 20,
   "id": "4de2cd28",
   "metadata": {},
   "outputs": [
    {
     "name": "stdout",
     "output_type": "stream",
     "text": [
      "                    pid          product_name\n",
      "240    SHOEA4HAJ8FZ5HCX         Catwalk Boots\n",
      "11717  SHOE28TKBXVEFWZM       Catwalk Bellies\n",
      "11622  SNDE28TSTBZUGG8M   Catwalk Women Heels\n",
      "16179  SNDE8TQC4UGDTQMP  Catwalk Women Wedges\n",
      "15133  SNDDZK5FHH85BUZN  Catwalk Women Wedges\n",
      "                    pid          product_name\n",
      "101    SHOEA4HADYGNUZFM         Catwalk Boots\n",
      "240    SHOEA4HAJ8FZ5HCX         Catwalk Boots\n",
      "11622  SNDE28TSTBZUGG8M   Catwalk Women Heels\n",
      "16179  SNDE8TQC4UGDTQMP  Catwalk Women Wedges\n",
      "15133  SNDDZK5FHH85BUZN  Catwalk Women Wedges\n"
     ]
    }
   ],
   "source": [
    "print(get_content_recommendations('SHOEA4HAJ8FZ5HCX'))  # Is pid ke similar products dekho\n",
    "print(get_content_recommendations('SHOE28TKBXVEFWZM'))\n"
   ]
  },
  {
   "cell_type": "code",
   "execution_count": 21,
   "id": "05415886",
   "metadata": {},
   "outputs": [],
   "source": [
    "# testing \n",
    "#1\n",
    "pid_test = 'SHOEA4HAJ8FZ5HCX'\n"
   ]
  },
  {
   "cell_type": "code",
   "execution_count": 22,
   "id": "938bbd15",
   "metadata": {},
   "outputs": [
    {
     "name": "stdout",
     "output_type": "stream",
     "text": [
      "                    pid          product_name\n",
      "240    SHOEA4HAJ8FZ5HCX         Catwalk Boots\n",
      "11717  SHOE28TKBXVEFWZM       Catwalk Bellies\n",
      "11622  SNDE28TSTBZUGG8M   Catwalk Women Heels\n",
      "16179  SNDE8TQC4UGDTQMP  Catwalk Women Wedges\n",
      "15133  SNDDZK5FHH85BUZN  Catwalk Women Wedges\n"
     ]
    }
   ],
   "source": [
    "recommended_products = get_content_recommendations(pid_test, top_n=5)\n",
    "print(recommended_products)\n"
   ]
  },
  {
   "cell_type": "code",
   "execution_count": null,
   "id": "d491338c",
   "metadata": {},
   "outputs": [],
   "source": []
  }
 ],
 "metadata": {
  "kernelspec": {
   "display_name": "base",
   "language": "python",
   "name": "python3"
  },
  "language_info": {
   "codemirror_mode": {
    "name": "ipython",
    "version": 3
   },
   "file_extension": ".py",
   "mimetype": "text/x-python",
   "name": "python",
   "nbconvert_exporter": "python",
   "pygments_lexer": "ipython3",
   "version": "3.12.7"
  }
 },
 "nbformat": 4,
 "nbformat_minor": 5
}
